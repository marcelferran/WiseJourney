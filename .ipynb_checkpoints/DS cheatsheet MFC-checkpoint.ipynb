{
 "cells": [
  {
   "cell_type": "code",
   "execution_count": null,
   "metadata": {},
   "outputs": [],
   "source": [
    "# Describe completo de estadisticas de un DF y las columnas indicadas\n",
    "\n",
    "columns = ['col1', 'col2', 'col3', 'col4', 'col5', 'col6', 'col7']\n",
    "\n",
    "df_describe = pd.DataFrame(columns=['Columna', 'Count', 'Std Dev', 'Mean', 'Min', 'Max', 'Median', 'Mode', 'P10', 'P25', 'P50', 'P75', 'Q1', 'Q3', 'IQR'])\n",
    "\n",
    "for col in columns:\n",
    "    \n",
    "    stats = df_num[col].describe(percentiles=[0.1, 0.25, 0.5, 0.75])\n",
    "    q1 = stats['25%']\n",
    "    q3 = stats['75%']\n",
    "    iqr = q3 - q1\n",
    "\n",
    "    df_describe = df_describe.append({'Columna': col,\n",
    "                                     'Count': stats['count'],\n",
    "                                      'Std Dev': stats['std'],\n",
    "                                      'Mean': stats['mean'],\n",
    "                                      'Min': stats['min'],\n",
    "                                      'Max': stats['max'],                                      \n",
    "                                      'Median': stats['50%'],\n",
    "                                      'Mode': stats.mode().iloc[0],                                      \n",
    "                                      'P10': stats['10%'],\n",
    "                                      'P25': stats['25%'],\n",
    "                                      'P50': stats['50%'],\n",
    "                                      'P75': stats['75%'],\n",
    "                                      'Q1': stats['25%'],\n",
    "                                      'Q3': stats['75%'],\n",
    "                                      'IQR': iqr}, ignore_index=True)\n",
    "    \n",
    "df_describe = df_describe.set_index('Columna')\n",
    "\n",
    "df_describe"
   ]
  }
 ],
 "metadata": {
  "kernelspec": {
   "display_name": "Python 3 (ipykernel)",
   "language": "python",
   "name": "python3"
  },
  "language_info": {
   "codemirror_mode": {
    "name": "ipython",
    "version": 3
   },
   "file_extension": ".py",
   "mimetype": "text/x-python",
   "name": "python",
   "nbconvert_exporter": "python",
   "pygments_lexer": "ipython3",
   "version": "3.12.5"
  }
 },
 "nbformat": 4,
 "nbformat_minor": 4
}
