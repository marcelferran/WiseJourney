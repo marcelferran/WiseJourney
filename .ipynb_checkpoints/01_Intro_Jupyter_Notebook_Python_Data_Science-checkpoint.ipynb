{
 "cells": [
  {
   "attachments": {
    "88a05bde-70c3-40fa-a97a-29aed895e8ae.png": {
     "image/png": "[encoded data removed]"
    }
   },
   "cell_type": "markdown",
   "id": "c8e31424-e1d9-4170-9f09-695e26eed7cf",
   "metadata": {},
   "source": [
    "![image.png](attachment:88a05bde-70c3-40fa-a97a-29aed895e8ae.png)"
   ]
  },
  {
   "cell_type": "markdown",
   "id": "e76cc049-11d1-4d6f-9b73-7400103860a1",
   "metadata": {},
   "source": [
    "# Introduction to Jupyter Notebook and Python for Data Science"
   ]
  },
  {
   "cell_type": "markdown",
   "id": "e0afed85-67e7-4c20-a0ab-ef0800cfead2",
   "metadata": {},
   "source": [
    "## Jupyter Notebook"
   ]
  },
  {
   "cell_type": "markdown",
   "id": "321e52ee-dc8c-4a19-a824-ef12088ebb21",
   "metadata": {},
   "source": [
    "Jupyter Notebook is an interactive environment widely used for data science, machine learning, and other computational tasks. It allows you to write and run code in an organized way, combining code execution with explanatory text."
   ]
  },
  {
   "cell_type": "markdown",
   "id": "d8f0768b-9de7-417d-80b3-22836502bb85",
   "metadata": {
    "jp-MarkdownHeadingCollapsed": true
   },
   "source": [
    "### 1. Notebook basics\n",
    "A Jupyter Notebook consists of **cells**, which are individual blocks where you can write **code or text**.\n",
    "\n",
    "There are two main types of cells:\n",
    "\n",
    " * **Code Cells**: Used to write and execute Python code.\n",
    "\n",
    " * **Markdown Cells**: Used to write formatted text, like explanations, titles, or lists."
   ]
  },
  {
   "cell_type": "markdown",
   "id": "32523f5c-ebc5-4cd8-b4a4-2062a9d386ba",
   "metadata": {
    "jp-MarkdownHeadingCollapsed": true
   },
   "source": [
    "### 2. Navigating the Interface\n",
    "**Toolbar**: Provides options to save the notebook, add/delete cells, change cell types, and run cells.\n",
    "\n",
    "**Kernel**: The kernel executes the code you write. If the kernel crashes, you can restart it via the \"Kernel\" menu.\n",
    "\n",
    "**Cell Status**:\n",
    "\n",
    " - A cell with [ ] is not yet executed.\n",
    " - A cell with [1] indicates the order it was run."
   ]
  },
  {
   "cell_type": "markdown",
   "id": "93a02738-22d7-4e8e-8c94-57b016371292",
   "metadata": {},
   "source": [
    "### 3. How to work with cells\n",
    "**Run a Cell**:\n",
    " - Press **Shift + Enter** to execute the code or render markdown.\n",
    " - Alternatively, click the \"Run\" button in the toolbar.\n",
    "\n",
    "**Add a New Cell**:\n",
    " - Click the **+** button on the toolbar or use the shortcut **B** (to add a cell below).\n",
    "\n",
    "**Change Cell Type**:\n",
    " - Select a cell and choose **Code or Markdown** from the dropdown in the toolbar."
   ]
  },
  {
   "cell_type": "markdown",
   "id": "b55a1bbf-b2cc-46cb-acde-c873ae6ee59b",
   "metadata": {},
   "source": [
    "### 4. Markdown Cells\n",
    "Markdown cells allow you to write formatted text.\n",
    "\n",
    "You can include:\n",
    " - **Headings**: Use #, ##, or ### for headings.\n",
    " - **Bold/Italic**: Use ** for bold and _ for italics.\n",
    " - **Lists**:\n",
    "    - **Bulleted list**: Use - or *.\n",
    "    - **Numbered list**: Use numbers followed by a dot (1.).\n",
    "\n",
    " - **Code Blocks**: Use backticks (```) for inline or block code.\n",
    "\n",
    " - **Links**: [Text], (URL)"
   ]
  },
  {
   "cell_type": "markdown",
   "id": "4dcab9b9-e86e-4b28-b134-e214224e17b2",
   "metadata": {},
   "source": [
    "**Example markdown cell**"
   ]
  },
  {
   "cell_type": "code",
   "execution_count": null,
   "id": "e4a2d401-71ad-45b2-8c24-a6164b7a81da",
   "metadata": {},
   "outputs": [],
   "source": [
    "# This is a Heading\n",
    "\n",
    "## This is a Subheading\n",
    "\n",
    "- This is a bullet point\n",
    "\n",
    "1. This is a numbered list\n",
    "\n",
    "`This is inline code`"
   ]
  },
  {
   "cell_type": "markdown",
   "id": "bb626d8a-4539-45d9-afc1-2253f72e6dba",
   "metadata": {},
   "source": [
    "Rendered Output:"
   ]
  },
  {
   "cell_type": "markdown",
   "id": "a0667ce0-e42d-4c6b-bd20-94a7da43796c",
   "metadata": {
    "jp-MarkdownHeadingCollapsed": true
   },
   "source": [
    "### This is a Heading\n",
    "#### This is a Subheading\n",
    "- This is a bullet point\n",
    "1. This is a numbered list\n",
    "`This is inline code`"
   ]
  },
  {
   "cell_type": "markdown",
   "id": "5d51bae3-0451-425b-a781-3d10150417e0",
   "metadata": {},
   "source": [
    "### 5. Code Cells\n",
    " - Code cells let you write Python code and see its output.\n",
    " - After running the cell, the output appears below it.\n",
    "\n",
    "**Example Code Cell**"
   ]
  },
  {
   "cell_type": "code",
   "execution_count": 3,
   "id": "2d414e77-68d7-4323-83e1-787e577a11f7",
   "metadata": {},
   "outputs": [
    {
     "name": "stdout",
     "output_type": "stream",
     "text": [
      "Hello, Jupyter Notebook!\n"
     ]
    }
   ],
   "source": [
    "# This is a Python code cell\n",
    "print(\"Hello, Jupyter Notebook!\")"
   ]
  },
  {
   "cell_type": "markdown",
   "id": "0574f2a4-6871-4e70-a9dc-d2d72187e5b7",
   "metadata": {},
   "source": [
    "### 6. Shortcuts\n",
    "Jupyter Notebook offers many keyboard shortcuts for efficiency. Some useful ones are:\n",
    " * **Shift + Enter**: Run the current cell and move to the next one.\n",
    " * **Ctrl + Enter**: Run the current cell without moving to the next one.\n",
    " * **M**: Convert a cell to Markdown.\n",
    " * **Y**: Convert a cell to Code.\n",
    " * **A**: Add a new cell above.\n",
    " * **B**: Add a new cell below."
   ]
  },
  {
   "cell_type": "markdown",
   "id": "805b6db6-c808-4868-9a65-f3749af7b5cf",
   "metadata": {},
   "source": [
    "### 7. Save Your Work\n",
    "Notebooks automatically save periodically, but you can manually save them by pressing **Ctrl + S** or clicking the **save icon**.\n",
    "    \n",
    "Notebooks are saved with a **.ipynb** extension."
   ]
  },
  {
   "cell_type": "markdown",
   "id": "f18e17d4-350e-48f3-8c40-af74bda643b8",
   "metadata": {},
   "source": [
    "### 8. Practical Exercise\n",
    "Create a new notebook and try the following:\n",
    "\n",
    "    1. Create a Markdown cell with a title: \"My First Notebook\".\n",
    "\n",
    "    2. Add a code cell to print your name.\n",
    "\n",
    "    3. Add a Markdown cell with a numbered list of three things you want to learn in Python.\n",
    "\n",
    "    4. Create a code cell that calculates the sum of two numbers and displays the result."
   ]
  },
  {
   "cell_type": "markdown",
   "id": "7814ca28-0f77-4963-8db2-9d956c29b6c8",
   "metadata": {},
   "source": [
    "## Python for Data Science"
   ]
  },
  {
   "cell_type": "markdown",
   "id": "3c3bad3a-336b-420a-8e9f-c1b233725c4d",
   "metadata": {},
   "source": [
    "In this notebook, we will learn the basics of Python and explore essential libraries for data analysis.  \n",
    "Python is a popular programming language because it is easy to learn, versatile, and widely used in data science."
   ]
  },
  {
   "cell_type": "markdown",
   "id": "34ee78fe-ebcd-4ca5-a926-4faa3a2f0360",
   "metadata": {},
   "source": [
    "### 1. Basic Data Types in Python\n",
    "\n",
    "1. **Numbers:** Can be integers (int) or decimals (float).  \n",
    "2. **Strings:** Text enclosed in quotes.  \n",
    "3. **Lists:** Ordered collections of elements.  \n",
    "4. **Dictionaries:** Collection of key-value pairs.\n",
    "\n",
    "### Example:"
   ]
  },
  {
   "cell_type": "code",
   "execution_count": 1,
   "id": "3fffeb43-b0c7-4961-9d40-d5c009eb4142",
   "metadata": {},
   "outputs": [
    {
     "name": "stdout",
     "output_type": "stream",
     "text": [
      "Number: 42, Decimal: 3.14\n",
      "Text: Hello, Data Science!\n",
      "List: [1, 2, 3, 4]\n",
      "Dictionary: {'name': 'Python', 'purpose': 'Data Science'}\n"
     ]
    }
   ],
   "source": [
    "# Numbers\n",
    "number = 42\n",
    "decimal = 3.14\n",
    "\n",
    "# Strings\n",
    "text = \"Hello, Data Science!\"\n",
    "\n",
    "# List\n",
    "my_list = [1, 2, 3, 4]\n",
    "\n",
    "# Dictionary\n",
    "my_dict = {\"name\": \"Python\", \"purpose\": \"Data Science\"}\n",
    "\n",
    "print(f\"Number: {number}, Decimal: {decimal}\")\n",
    "print(f\"Text: {text}\")\n",
    "print(f\"List: {my_list}\")\n",
    "print(f\"Dictionary: {my_dict}\")"
   ]
  },
  {
   "cell_type": "markdown",
   "id": "d69b656b-376b-4295-ac4f-2012cdc67b84",
   "metadata": {},
   "source": [
    "### 2. Introduction to Libraries\n",
    "Present the most common libraries:\n",
    "\n",
    " * **NumPy**: Array manipulation.\n",
    "\n",
    " * **Pandas**: Tabular data handling.\n",
    "\n",
    " * **Matplotlib**: Visualization.\n",
    "\n",
    "Brief Examples for Each Library:\n",
    "\n",
    "**NumPy**: is a library for working with arrays (matrices) efficiently."
   ]
  },
  {
   "cell_type": "code",
   "execution_count": 4,
   "id": "ff9758ef-7794-4564-a76b-ffcc1408aae9",
   "metadata": {},
   "outputs": [
    {
     "name": "stdout",
     "output_type": "stream",
     "text": [
      "NumPy Array: [1 2 3 4]\n",
      "Add 10 to each element: [11 12 13 14]\n"
     ]
    }
   ],
   "source": [
    "import numpy as np\n",
    "\n",
    "# Create an array\n",
    "array = np.array([1, 2, 3, 4])\n",
    "print(\"NumPy Array:\", array)\n",
    "\n",
    "# Basic operations\n",
    "sum_array = array + 10\n",
    "print(\"Add 10 to each element:\", sum_array)"
   ]
  },
  {
   "cell_type": "markdown",
   "id": "4623571a-c244-4d06-886b-2b16fec8c474",
   "metadata": {},
   "source": [
    "\n",
    "In Python, **import** is a keyword used to include external libraries or modules into your code. These libraries contain pre-written functions, classes, and variables that you can use to simplify your work and avoid rewriting code.\n",
    "\n",
    "**Pandas**: is great for working with tabular data like **spreadsheets**."
   ]
  },
  {
   "cell_type": "code",
   "execution_count": 7,
   "id": "fd826809-9f4f-45f0-9513-8f33913ce5cc",
   "metadata": {},
   "outputs": [
    {
     "name": "stdout",
     "output_type": "stream",
     "text": [
      "     Name  Age\n",
      "0    Anna   23\n",
      "1    Luis   34\n",
      "2  Carlos   45\n",
      "\n",
      "Ages: 0    23\n",
      "1    34\n",
      "2    45\n",
      "Name: Age, dtype: int64\n"
     ]
    }
   ],
   "source": [
    "import pandas as pd\n",
    "\n",
    "# Create a DataFrame\n",
    "data = {\"Name\": [\"Anna\", \"Luis\", \"Carlos\"], \"Age\": [23, 34, 45]}\n",
    "df = pd.DataFrame(data)\n",
    "print(df)\n",
    "\n",
    "print() #print an empty line\n",
    "\n",
    "# Access columns\n",
    "print(\"Ages:\", df[\"Age\"])"
   ]
  },
  {
   "cell_type": "markdown",
   "id": "08f8662f-7de6-4fec-a5cf-7936b4f3b1a2",
   "metadata": {},
   "source": [
    "**Matplotlib**: allows us to visualize data using graphs."
   ]
  },
  {
   "cell_type": "code",
   "execution_count": 9,
   "id": "f27941a4-967f-4132-a1b3-c6061d41b463",
   "metadata": {},
   "outputs": [
    {
     "data": {
      "image/png": "[encoded data removed]",
      "text/plain": [
       "<Figure size 640x480 with 1 Axes>"
      ]
     },
     "metadata": {},
     "output_type": "display_data"
    }
   ],
   "source": [
    "import matplotlib.pyplot as plt\n",
    "\n",
    "# Create a simple plot\n",
    "x = [1, 2, 3, 4]\n",
    "y = [10, 20, 25, 30]\n",
    "\n",
    "plt.plot(x, y, label=\"Line\")\n",
    "plt.xlabel(\"X-axis\")\n",
    "plt.ylabel(\"Y-axis\")\n",
    "plt.title(\"Plot a Line\")\n",
    "plt.legend()\n",
    "plt.show()"
   ]
  },
  {
   "cell_type": "markdown",
   "id": "c59838bf-fd3a-4af7-b116-8dc7064a3026",
   "metadata": {},
   "source": [
    "### 3. Mini Project: Data Exploration\n",
    "Introduce a small project using a .csv file (e.g., sales data).\n",
    "\n",
    "Use Pandas to load the data, NumPy to calculate statistics, and Matplotlib to create graphs.\n",
    "\n",
    "**Example Code**:"
   ]
  },
  {
   "cell_type": "code",
   "execution_count": 12,
   "id": "de9991e4-5965-477a-83a7-d251cf28cb42",
   "metadata": {},
   "outputs": [
    {
     "name": "stdout",
     "output_type": "stream",
     "text": [
      "             Height             Weight\n",
      "0   Height(Inches)\"   \"Weight(Pounds)\"\n",
      "1             65.78             112.99\n",
      "2             71.52             136.49\n",
      "3             69.40             153.03\n",
      "4             68.22             142.34\n",
      "Average height: 67.9498\n",
      "\n"
     ]
    },
    {
     "data": {
      "image/png": "[encoded data removed]",
      "text/plain": [
       "<Figure size 640x480 with 1 Axes>"
      ]
     },
     "metadata": {},
     "output_type": "display_data"
    }
   ],
   "source": [
    "# Required imports\n",
    "import pandas as pd\n",
    "import numpy as np\n",
    "import matplotlib.pyplot as plt\n",
    "\n",
    "# Load data with Pandas\n",
    "url = \"https://people.sc.fsu.edu/~jburkardt/data/csv/hw_200.csv\"\n",
    "data = pd.read_csv(url, header=None, names=[\"Index\", \"Height\", \"Weight\"])  # Correctly assign column names\n",
    "\n",
    "# Drop the \"Index\" column (it is just an identifier)\n",
    "data = data.drop(columns=[\"Index\"])\n",
    "\n",
    "# Display the first rows\n",
    "print(data.head())\n",
    "\n",
    "# Convert columns to numeric to avoid issues (if necessary)\n",
    "data[\"Height\"] = pd.to_numeric(data[\"Height\"], errors=\"coerce\")\n",
    "data[\"Weight\"] = pd.to_numeric(data[\"Weight\"], errors=\"coerce\")\n",
    "\n",
    "# Drop rows with invalid data\n",
    "data = data.dropna()\n",
    "\n",
    "# Basic statistics\n",
    "print(\"Average height:\", np.mean(data[\"Height\"]))\n",
    "print()\n",
    "\n",
    "# Height vs. Weight scatter plot\n",
    "plt.scatter(data[\"Height\"], data[\"Weight\"])\n",
    "plt.xlabel(\"Height\")\n",
    "plt.ylabel(\"Weight\")\n",
    "plt.title(\"Height vs. Weight Relationship\")\n",
    "plt.show()"
   ]
  },
  {
   "cell_type": "markdown",
   "id": "70033e0e-71a5-4412-8289-9e51cdf46c09",
   "metadata": {},
   "source": [
    "### 4. Practice for the Reader\n",
    "Suggest exercises to reinforce concepts:\n",
    "\n",
    " 1. Use NumPy to create an array of numbers from 1 to 10 and calculate their sum.\n",
    " 2. Create a DataFrame with fictional information (e.g., names and ages of friends).\n",
    " 3. Plot a bar chart using the names and ages from the DataFrame with Matplotlib."
   ]
  },
  {
   "cell_type": "code",
   "execution_count": 11,
   "id": "202014f4-4a8f-4d73-bc57-106627c69eb1",
   "metadata": {
    "jupyter": {
     "source_hidden": true
    },
    "scrolled": true
   },
   "outputs": [
    {
     "name": "stdout",
     "output_type": "stream",
     "text": [
      "WiseJourney ™\n",
      "Author: Marcel Ferran Castro Ponce de Leon\n",
      "Date: Nov, 21th, 2024\n",
      "Version: 1\n"
     ]
    }
   ],
   "source": [
    "print('WiseJourney','\\N{TRADE MARK SIGN}')\n",
    "print('Author: Marcel Ferran Castro Ponce de Leon') \n",
    "print('Date: Nov, 21th, 2024') \n",
    "print('Version: 1') "
   ]
  },
  {
   "cell_type": "code",
   "execution_count": null,
   "id": "e458ce5f-d725-48b6-a0a0-8f37d0db9623",
   "metadata": {},
   "outputs": [],
   "source": []
  }
 ],
 "metadata": {
  "kernelspec": {
   "display_name": "Python 3 (ipykernel)",
   "language": "python",
   "name": "python3"
  },
  "language_info": {
   "codemirror_mode": {
    "name": "ipython",
    "version": 3
   },
   "file_extension": ".py",
   "mimetype": "text/x-python",
   "name": "python",
   "nbconvert_exporter": "python",
   "pygments_lexer": "ipython3",
   "version": "3.12.5"
  }
 },
 "nbformat": 4,
 "nbformat_minor": 5
}
