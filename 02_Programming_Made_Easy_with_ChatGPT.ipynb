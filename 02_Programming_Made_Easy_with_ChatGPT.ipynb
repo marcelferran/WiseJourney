{
 "cells": [
  {
   "attachments": {
    "7c05e788-9472-4f55-9372-5e94e79bfc92.png": {
     "image/png": "[encoded data removed]"
    }
   },
   "cell_type": "markdown",
   "id": "59338c14-1d5c-4c7f-8dc9-17fb6e2ce313",
   "metadata": {},
   "source": [
    "![image.png](attachment:7c05e788-9472-4f55-9372-5e94e79bfc92.png)"
   ]
  },
  {
   "cell_type": "markdown",
   "id": "2286fef8-2462-43a6-8f2f-59af2697a5c6",
   "metadata": {},
   "source": [
    "# Programming Made Easy with ChatGPT"
   ]
  },
  {
   "cell_type": "markdown",
   "id": "0a1514fb-386e-42d5-bf88-f11aed21644a",
   "metadata": {},
   "source": [
    "## 1. Introduction\n",
    "ChatGPT is an AI assistant that can help you write, debug, and understand code. Whether you're a beginner or an experienced programmer, ChatGPT simplifies your coding journey by providing:\n",
    "- **Code generation**: Create scripts or snippets for various use cases.\n",
    "- **Debugging assistance**: Identify and fix errors in your code.\n",
    "- **Concept explanations**: Learn programming concepts in plain language.\n",
    "- **Guidance on best practices**: Improve your coding habits with expert advice.\n",
    "\n",
    "In this notebook, we'll explore how to use ChatGPT effectively for programming with examples and exercises."
   ]
  },
  {
   "cell_type": "markdown",
   "id": "9b90c68a-3de8-4c05-928f-1274e7c00ba5",
   "metadata": {},
   "source": [
    "## 2. Setting the Scene: \"How to Interact with ChatGPT\"\n",
    "\n",
    "### Step-by-Step Guide:\n",
    "1. **Access ChatGPT**: Visit the [ChatGPT platform](https://chat.openai.com/).\n",
    "2. **Ask Clear Questions**: Formulate your queries as specific as possible. For example:\n",
    "   - \"Write a Python function to calculate the factorial of a number.\"\n",
    "   - \"Explain the difference between lists and tuples in Python.\"\n",
    "3. **Provide Context**: Share details about your goal, code snippets, or errors you're encountering for tailored assistance.\n",
    "4. **Iterate**: If the initial response isn't perfect, refine your query or ask follow-up questions.\n"
   ]
  },
  {
   "cell_type": "markdown",
   "id": "7448bf4c-a493-482c-bd35-feb776215d24",
   "metadata": {},
   "source": [
    "## 3. Examples and Practical Usage\n",
    "\n",
    "### Example 1: Generating Code\n",
    "Suppose you need a Python function to calculate the Fibonacci sequence. You can ask ChatGPT:\n",
    "\n",
    "**Query**: \"Write a Python function to calculate the first N Fibonacci numbers.\"\n",
    "\n",
    "Code Output from ChatGPT:"
   ]
  },
  {
   "cell_type": "code",
   "execution_count": 2,
   "id": "078a43a3-1162-4b38-ab64-e5631323d98a",
   "metadata": {},
   "outputs": [
    {
     "name": "stdout",
     "output_type": "stream",
     "text": [
      "[0, 1, 1, 2, 3, 5, 8, 13, 21, 34]\n"
     ]
    }
   ],
   "source": [
    "def fibonacci(n):\n",
    "    sequence = [0, 1]\n",
    "    for i in range(2, n):\n",
    "        sequence.append(sequence[-1] + sequence[-2])\n",
    "    return sequence[:n]\n",
    "\n",
    "# Example usage:\n",
    "print(fibonacci(10))  # Output: [0, 1, 1, 2, 3, 5, 8, 13, 21, 34]"
   ]
  },
  {
   "cell_type": "markdown",
   "id": "5ebc8a6b-66f5-42b7-a48a-3c40115caa81",
   "metadata": {},
   "source": [
    "### Example 2: Debugging Errors\n",
    "\n",
    "Markdown Content:\n",
    "\n",
    "Suppose you wrote a function to calculate the square of a number, but it’s not working as expected.\n",
    "\n",
    "Your code:\n",
    "```python\n",
    "def square(x):\n",
    "    return x*x"
   ]
  },
  {
   "cell_type": "markdown",
   "id": "f749351c-4996-49f5-baa3-df28e51fc363",
   "metadata": {},
   "source": [
    "You encounter an error when testing:"
   ]
  },
  {
   "cell_type": "code",
   "execution_count": 3,
   "id": "ff7b6198-6724-43a3-a1cd-9606608607ea",
   "metadata": {},
   "outputs": [
    {
     "ename": "NameError",
     "evalue": "name 'square' is not defined",
     "output_type": "error",
     "traceback": [
      "\u001b[0;31m---------------------------------------------------------------------------\u001b[0m",
      "\u001b[0;31mNameError\u001b[0m                                 Traceback (most recent call last)",
      "Cell \u001b[0;32mIn[3], line 1\u001b[0m\n\u001b[0;32m----> 1\u001b[0m \u001b[38;5;28mprint\u001b[39m(\u001b[43msquare\u001b[49m(\u001b[38;5;124m\"\u001b[39m\u001b[38;5;124m2\u001b[39m\u001b[38;5;124m\"\u001b[39m))  \u001b[38;5;66;03m# Output: TypeError\u001b[39;00m\n",
      "\u001b[0;31mNameError\u001b[0m: name 'square' is not defined"
     ]
    }
   ],
   "source": [
    "print(square(\"2\"))  # Output: TypeError"
   ]
  },
  {
   "cell_type": "markdown",
   "id": "37791024-965e-4747-8f60-df8409341f1a",
   "metadata": {},
   "source": [
    "**Query to ChatGPT**: \"Why does my square function throw a TypeError when I input a string?\""
   ]
  },
  {
   "cell_type": "markdown",
   "id": "0424ac2d-ec0e-48f1-8e7b-49cea7a0493f",
   "metadata": {},
   "source": [
    "**Response from ChatGPT**:\n",
    "Explain the issue: Strings cannot be multiplied by themselves. Provide a solution by type-checking the input.\n",
    "\n",
    "**Updated Code:**"
   ]
  },
  {
   "cell_type": "code",
   "execution_count": 5,
   "id": "122c80ee-e2a0-4450-bc3a-3601e24f0c8f",
   "metadata": {},
   "outputs": [
    {
     "name": "stdout",
     "output_type": "stream",
     "text": [
      "Input must be a number.\n"
     ]
    }
   ],
   "source": [
    "def square(x):\n",
    "    if not isinstance(x, (int, float)):\n",
    "        raise TypeError(\"Input must be a number.\")\n",
    "    return x * x\n",
    "\n",
    "# Example usage:\n",
    "try:\n",
    "    print(square(\"2\"))  # Raises TypeError\n",
    "except TypeError as e:\n",
    "    print(e)"
   ]
  },
  {
   "cell_type": "markdown",
   "id": "2940476c-5493-4647-9dcc-0bcbb337738a",
   "metadata": {},
   "source": [
    "### Example 3: Explaining Programming Concepts\n",
    "\n",
    "Markdown Content:"
   ]
  },
  {
   "cell_type": "markdown",
   "id": "046ce834-b07c-436f-9fc7-962497bd96e6",
   "metadata": {},
   "source": [
    "**Query to ChatGPT**: \"What is the difference between a list and a tuple in Python?\"\n",
    "\n",
    "ChatGPT can explain that:\n",
    "- A list is mutable (can be changed), while a tuple is immutable (cannot be changed).\n",
    "- Lists use square brackets `[]`, whereas tuples use parentheses `()`.\n"
   ]
  },
  {
   "cell_type": "code",
   "execution_count": 12,
   "id": "fb93e6cd-1061-441f-83f3-47ec115ebe2b",
   "metadata": {},
   "outputs": [
    {
     "name": "stdout",
     "output_type": "stream",
     "text": [
      "[10, 2, 3]\n"
     ]
    }
   ],
   "source": [
    "# List example\n",
    "my_list = [1, 2, 3]\n",
    "my_list[0] = 10  # This works\n",
    "print(my_list)"
   ]
  },
  {
   "cell_type": "code",
   "execution_count": 13,
   "id": "489c9266-fd20-4d02-9331-d8644cc80e9f",
   "metadata": {},
   "outputs": [
    {
     "ename": "TypeError",
     "evalue": "'tuple' object does not support item assignment",
     "output_type": "error",
     "traceback": [
      "\u001b[0;31m---------------------------------------------------------------------------\u001b[0m",
      "\u001b[0;31mTypeError\u001b[0m                                 Traceback (most recent call last)",
      "Cell \u001b[0;32mIn[13], line 3\u001b[0m\n\u001b[1;32m      1\u001b[0m \u001b[38;5;66;03m# Tuple example\u001b[39;00m\n\u001b[1;32m      2\u001b[0m my_tuple \u001b[38;5;241m=\u001b[39m (\u001b[38;5;241m1\u001b[39m, \u001b[38;5;241m2\u001b[39m, \u001b[38;5;241m3\u001b[39m)\n\u001b[0;32m----> 3\u001b[0m \u001b[43mmy_tuple\u001b[49m\u001b[43m[\u001b[49m\u001b[38;5;241;43m0\u001b[39;49m\u001b[43m]\u001b[49m \u001b[38;5;241m=\u001b[39m \u001b[38;5;241m10\u001b[39m  \u001b[38;5;66;03m# Raises TypeError: 'tuple' object does not support item assignment\u001b[39;00m\n\u001b[1;32m      4\u001b[0m \u001b[38;5;28mprint\u001b[39m(my_tuple)\n",
      "\u001b[0;31mTypeError\u001b[0m: 'tuple' object does not support item assignment"
     ]
    }
   ],
   "source": [
    "# Tuple example\n",
    "my_tuple = (1, 2, 3)\n",
    "my_tuple[0] = 10  # Raises TypeError: 'tuple' object does not support item assignment\n",
    "print(my_tuple)"
   ]
  },
  {
   "cell_type": "markdown",
   "id": "4c2d6f0c-cfb6-4a22-8188-49ebbed74532",
   "metadata": {},
   "source": [
    "## 4. Conclusion\n",
    "**ChatGPT** is a versatile tool for programmers of all skill levels. It can:\n",
    "\n",
    "- Help you **write and debug code**.\n",
    "- Explain **complex** programming concepts in **simple terms**.\n",
    "- **Guide you in solving real-world coding challenges**.\n",
    "\n",
    "**I hope this notebook inspires you to explore and leverage ChatGPT to enhance your coding journey, happy coding! 😊**"
   ]
  },
  {
   "cell_type": "code",
   "execution_count": 16,
   "id": "31289f66-c591-4102-b1a5-3356fcaafd05",
   "metadata": {
    "jupyter": {
     "source_hidden": true
    }
   },
   "outputs": [
    {
     "name": "stdout",
     "output_type": "stream",
     "text": [
      "WiseJourney ™\n",
      "Author: Marcel Ferran Castro Ponce de Leon\n",
      "Date: Nov, 22th, 2024\n",
      "Version: 1\n"
     ]
    }
   ],
   "source": [
    "print('WiseJourney','\\N{TRADE MARK SIGN}')\n",
    "print('Author: Marcel Ferran Castro Ponce de Leon') \n",
    "print('Date: Nov, 22th, 2024') \n",
    "print('Version: 1') "
   ]
  }
 ],
 "metadata": {
  "kernelspec": {
   "display_name": "Python 3 (ipykernel)",
   "language": "python",
   "name": "python3"
  },
  "language_info": {
   "codemirror_mode": {
    "name": "ipython",
    "version": 3
   },
   "file_extension": ".py",
   "mimetype": "text/x-python",
   "name": "python",
   "nbconvert_exporter": "python",
   "pygments_lexer": "ipython3",
   "version": "3.12.5"
  }
 },
 "nbformat": 4,
 "nbformat_minor": 5
}
